{
 "cells": [
  {
   "cell_type": "code",
   "execution_count": 1,
   "metadata": {},
   "outputs": [
    {
     "name": "stdout",
     "output_type": "stream",
     "text": [
      "{'Name': 'Asma Rashid', 'Age': '21', 'DOB': '24/10/1996', 'Location': 'Karachi'}\n"
     ]
    }
   ],
   "source": [
    "BioData = {\n",
    "  \"Name\": \"Asma Rashid\",\n",
    "  \"Age\": \"21\",\n",
    "  \"DOB\": \"24/10/1996\",\n",
    "  \"Location\": \"Karachi\"\n",
    "}\n",
    "print(BioData)"
   ]
  }
 ],
 "metadata": {
  "kernelspec": {
   "display_name": "Python 3",
   "language": "python",
   "name": "python3"
  },
  "language_info": {
   "codemirror_mode": {
    "name": "ipython",
    "version": 3
   },
   "file_extension": ".py",
   "mimetype": "text/x-python",
   "name": "python",
   "nbconvert_exporter": "python",
   "pygments_lexer": "ipython3",
   "version": "3.6.5"
  }
 },
 "nbformat": 4,
 "nbformat_minor": 2
}
