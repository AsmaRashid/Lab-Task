{
 "cells": [
  {
   "cell_type": "code",
   "execution_count": 1,
   "metadata": {},
   "outputs": [
    {
     "name": "stdout",
     "output_type": "stream",
     "text": [
      "8\n"
     ]
    }
   ],
   "source": [
    "Listofnums = [1, 2, 3, 4, 5, 6,7,8]\n",
    "x = len(Listofnums)\n",
    "print(x)"
   ]
  },
  {
   "cell_type": "code",
   "execution_count": 2,
   "metadata": {},
   "outputs": [
    {
     "name": "stdout",
     "output_type": "stream",
     "text": [
      "[{'customer id': 0, 'first name': 'asma', 'last name': 'rashid'}, {'customer id': 1, 'first name': 'Ayesha', 'last name:': 'noor'}]\n"
     ]
    }
   ],
   "source": [
    "customers = [\n",
    "  {\n",
    "    \"customer id\": 0,\n",
    "    \"first name\":\"asma\",\n",
    "    \"last name\": \"rashid\",\n",
    "  },\n",
    "]\n",
    "new_customer_id = len(customers)\n",
    "new_first_name = \"Ayesha\"\n",
    "new_last_name = \"noor\"\n",
    "new_dictionary = {\n",
    "  \"customer id\": new_customer_id,\n",
    "  \"first name\": new_first_name,\n",
    "  \"last name:\": new_last_name,\n",
    "}\n",
    "customers.append(new_dictionary)\n",
    "print(customers)"
   ]
  }
 ],
 "metadata": {
  "kernelspec": {
   "display_name": "Python 3",
   "language": "python",
   "name": "python3"
  },
  "language_info": {
   "codemirror_mode": {
    "name": "ipython",
    "version": 3
   },
   "file_extension": ".py",
   "mimetype": "text/x-python",
   "name": "python",
   "nbconvert_exporter": "python",
   "pygments_lexer": "ipython3",
   "version": "3.6.5"
  }
 },
 "nbformat": 4,
 "nbformat_minor": 2
}
