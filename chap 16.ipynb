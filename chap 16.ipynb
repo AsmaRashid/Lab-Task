{
 "cells": [
  {
   "cell_type": "code",
   "execution_count": 2,
   "metadata": {},
   "outputs": [
    {
     "name": "stdout",
     "output_type": "stream",
     "text": [
      "['uzma', 'asma', 'haya', 'ayesha']\n",
      "['uzma', 'fatima', 'asma', 'haya', 'ayesha', 'emaan']\n"
     ]
    }
   ],
   "source": [
    "Names = ['uzma', 'asma', 'haya', 'ayesha']\n",
    "print (Names)\n",
    "\n",
    "\n",
    "Names.append(\"emaan\")\n",
    "Names.insert(1,'fatima')\n",
    "\n",
    "print (Names)"
   ]
  }
 ],
 "metadata": {
  "kernelspec": {
   "display_name": "Python 3",
   "language": "python",
   "name": "python3"
  },
  "language_info": {
   "codemirror_mode": {
    "name": "ipython",
    "version": 3
   },
   "file_extension": ".py",
   "mimetype": "text/x-python",
   "name": "python",
   "nbconvert_exporter": "python",
   "pygments_lexer": "ipython3",
   "version": "3.6.5"
  }
 },
 "nbformat": 4,
 "nbformat_minor": 2
}
