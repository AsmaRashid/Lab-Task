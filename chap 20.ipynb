{
 "cells": [
  {
   "cell_type": "code",
   "execution_count": 2,
   "metadata": {},
   "outputs": [
    {
     "name": "stdout",
     "output_type": "stream",
     "text": [
      "('Karachi', 'swat', 'kohat', 'peshawar')\n",
      "City Name:Karachi\n",
      "City Name:swat\n",
      "City Name:kohat\n",
      "City Name:peshawar\n"
     ]
    }
   ],
   "source": [
    "#Defining a Tuple \n",
    "Tuple1 = (\"Karachi\", \"swat\", \"kohat\", \"peshawar\"); \n",
    "print (Tuple1);\n",
    "\n",
    "#Print using for loop\n",
    "for a in Tuple1: \n",
    "    print(\"City Name:\" + a);"
   ]
  }
 ],
 "metadata": {
  "kernelspec": {
   "display_name": "Python 3",
   "language": "python",
   "name": "python3"
  },
  "language_info": {
   "codemirror_mode": {
    "name": "ipython",
    "version": 3
   },
   "file_extension": ".py",
   "mimetype": "text/x-python",
   "name": "python",
   "nbconvert_exporter": "python",
   "pygments_lexer": "ipython3",
   "version": "3.6.5"
  }
 },
 "nbformat": 4,
 "nbformat_minor": 2
}
