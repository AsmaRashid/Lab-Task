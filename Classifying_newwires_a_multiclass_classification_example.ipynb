{
  "nbformat": 4,
  "nbformat_minor": 0,
  "metadata": {
    "colab": {
      "name": "Classifying newwires: a multiclass classification example",
      "version": "0.3.2",
      "provenance": [],
      "collapsed_sections": [],
      "include_colab_link": true
    },
    "kernelspec": {
      "name": "python2",
      "display_name": "Python 2"
    }
  },
  "cells": [
    {
      "cell_type": "markdown",
      "metadata": {
        "id": "view-in-github",
        "colab_type": "text"
      },
      "source": [
        "<a href=\"https://colab.research.google.com/github/AsmaRashid/Lab-Task/blob/master/Classifying_newwires_a_multiclass_classification_example.ipynb\" target=\"_parent\"><img src=\"https://colab.research.google.com/assets/colab-badge.svg\" alt=\"Open In Colab\"/></a>"
      ]
    },
    {
      "metadata": {
        "id": "UsDHiRHq4-Ma",
        "colab_type": "code",
        "colab": {
          "base_uri": "https://localhost:8080/",
          "height": 85
        },
        "outputId": "30ba499e-bbd5-4b79-8846-07b4e692efcb"
      },
      "cell_type": "code",
      "source": [
        "from keras.datasets import reuters\n",
        "(train_data, train_labels), (test_data, test_labels) = reuters.load_data(num_words = 10000)"
      ],
      "execution_count": 1,
      "outputs": [
        {
          "output_type": "stream",
          "text": [
            "Using TensorFlow backend.\n"
          ],
          "name": "stderr"
        },
        {
          "output_type": "stream",
          "text": [
            "Downloading data from https://s3.amazonaws.com/text-datasets/reuters.npz\n",
            "2113536/2110848 [==============================] - 0s 0us/step\n",
            "2121728/2110848 [==============================] - 0s 0us/step\n"
          ],
          "name": "stdout"
        }
      ]
    },
    {
      "metadata": {
        "id": "x7R-5tfs5jF0",
        "colab_type": "code",
        "colab": {
          "base_uri": "https://localhost:8080/",
          "height": 34
        },
        "outputId": "93f0b366-d391-4e99-8ec5-d2f8bf0d949f"
      },
      "cell_type": "code",
      "source": [
        "len(train_data)"
      ],
      "execution_count": 2,
      "outputs": [
        {
          "output_type": "execute_result",
          "data": {
            "text/plain": [
              "8982"
            ]
          },
          "metadata": {
            "tags": []
          },
          "execution_count": 2
        }
      ]
    },
    {
      "metadata": {
        "id": "zZZ0j0sU5nfY",
        "colab_type": "code",
        "colab": {
          "base_uri": "https://localhost:8080/",
          "height": 68
        },
        "outputId": "77835759-29e0-45bd-9174-aa1e5fc5324b"
      },
      "cell_type": "code",
      "source": [
        "word_index = reuters.get_word_index()\n",
        "reverse_word_index = dict([(value, key) for (key, value) in word_index.items()])\n",
        "# Note that our indices were offset by 3\n",
        "# because 0, 1 and 2 are reserved indices for \"padding\", \"start of sequence\", and \"unknown\".\n",
        "decoded_newswire = ' '.join([reverse_word_index.get(i - 3, '?') for i in train_data[0]])"
      ],
      "execution_count": 3,
      "outputs": [
        {
          "output_type": "stream",
          "text": [
            "Downloading data from https://s3.amazonaws.com/text-datasets/reuters_word_index.json\n",
            "557056/550378 [==============================] - 0s 0us/step\n",
            "565248/550378 [==============================] - 0s 0us/step\n"
          ],
          "name": "stdout"
        }
      ]
    },
    {
      "metadata": {
        "id": "AUjr43Ru5roL",
        "colab_type": "code",
        "colab": {
          "base_uri": "https://localhost:8080/",
          "height": 54
        },
        "outputId": "aba5a98e-5545-4388-8c99-0fdc5e0e44b7"
      },
      "cell_type": "code",
      "source": [
        "\n",
        "decoded_newswire"
      ],
      "execution_count": 4,
      "outputs": [
        {
          "output_type": "execute_result",
          "data": {
            "text/plain": [
              "u'? ? ? said as a result of its december acquisition of space co it expects earnings per share in 1987 of 1 15 to 1 30 dlrs per share up from 70 cts in 1986 the company said pretax net should rise to nine to 10 mln dlrs from six mln dlrs in 1986 and rental operation revenues to 19 to 22 mln dlrs from 12 5 mln dlrs it said cash flow per share this year should be 2 50 to three dlrs reuter 3'"
            ]
          },
          "metadata": {
            "tags": []
          },
          "execution_count": 4
        }
      ]
    },
    {
      "metadata": {
        "id": "VL0OSXUm5wKv",
        "colab_type": "code",
        "colab": {}
      },
      "cell_type": "code",
      "source": [
        "import numpy as np\n",
        "\n",
        "def vectorize_sequences(sequences, dimension=10000):\n",
        "    results = np.zeros((len(sequences), dimension))\n",
        "    for i, sequence in enumerate(sequences):\n",
        "        results[i, sequence] = 1.\n",
        "    return results\n",
        "\n",
        "# Our vectorized training data\n",
        "x_train = vectorize_sequences(train_data)\n",
        "# Our vectorized test data\n",
        "x_test = vectorize_sequences(test_data)"
      ],
      "execution_count": 0,
      "outputs": []
    },
    {
      "metadata": {
        "id": "8ZuYHk8p55A_",
        "colab_type": "code",
        "colab": {}
      },
      "cell_type": "code",
      "source": [
        "def to_one_hot(labels, dimension=46):\n",
        "    results = np.zeros((len(labels), dimension))\n",
        "    for i, label in enumerate(labels):\n",
        "        results[i, label] = 1.\n",
        "    return results\n",
        "\n",
        "# Our vectorized training labels\n",
        "one_hot_train_labels = to_one_hot(train_labels)\n",
        "# Our vectorized test labels\n",
        "one_hot_test_labels = to_one_hot(test_labels)"
      ],
      "execution_count": 0,
      "outputs": []
    },
    {
      "metadata": {
        "id": "IqMqyjxG56wy",
        "colab_type": "code",
        "colab": {}
      },
      "cell_type": "code",
      "source": [
        "from keras.utils.np_utils import to_categorical\n",
        "\n",
        "one_hot_train_labels = to_categorical(train_labels)\n",
        "one_hot_test_labels = to_categorical(test_labels)"
      ],
      "execution_count": 0,
      "outputs": []
    },
    {
      "metadata": {
        "id": "3HP-p-965_K-",
        "colab_type": "code",
        "colab": {}
      },
      "cell_type": "code",
      "source": [
        "from keras import models\n",
        "from keras import layers\n",
        "\n",
        "model = models.Sequential()\n",
        "model.add(layers.Dense(64, activation='relu', input_shape=(10000,)))\n",
        "model.add(layers.Dense(64, activation='relu'))\n",
        "model.add(layers.Dense(46, activation='softmax'))"
      ],
      "execution_count": 0,
      "outputs": []
    },
    {
      "metadata": {
        "id": "znlPCqSq6Cqk",
        "colab_type": "code",
        "colab": {}
      },
      "cell_type": "code",
      "source": [
        "model.compile(optimizer='rmsprop',\n",
        "              loss='categorical_crossentropy',\n",
        "              metrics=['accuracy'])"
      ],
      "execution_count": 0,
      "outputs": []
    },
    {
      "metadata": {
        "id": "81buQwxV6F9O",
        "colab_type": "code",
        "colab": {}
      },
      "cell_type": "code",
      "source": [
        "x_val = x_train[:1000]\n",
        "partial_x_train = x_train[1000:]\n",
        "\n",
        "y_val = one_hot_train_labels[:1000]\n",
        "partial_y_train = one_hot_train_labels[1000:]"
      ],
      "execution_count": 0,
      "outputs": []
    },
    {
      "metadata": {
        "id": "fLas4tHE6JlB",
        "colab_type": "code",
        "colab": {
          "base_uri": "https://localhost:8080/",
          "height": 714
        },
        "outputId": "32817bc0-e395-4921-b0fd-56da6cf82e3e"
      },
      "cell_type": "code",
      "source": [
        "history = model.fit(partial_x_train,\n",
        "                    partial_y_train,\n",
        "                    epochs=20,\n",
        "                    batch_size=512,\n",
        "                    validation_data=(x_val, y_val))"
      ],
      "execution_count": 11,
      "outputs": [
        {
          "output_type": "stream",
          "text": [
            "Train on 7982 samples, validate on 1000 samples\n",
            "Epoch 1/20\n",
            "7982/7982 [==============================] - 2s 261us/step - loss: 2.5333 - acc: 0.4946 - val_loss: 1.7225 - val_acc: 0.6110\n",
            "Epoch 2/20\n",
            "7982/7982 [==============================] - 1s 164us/step - loss: 1.4497 - acc: 0.6867 - val_loss: 1.3509 - val_acc: 0.7100\n",
            "Epoch 3/20\n",
            "7982/7982 [==============================] - 1s 152us/step - loss: 1.0999 - acc: 0.7638 - val_loss: 1.1722 - val_acc: 0.7420\n",
            "Epoch 4/20\n",
            "7982/7982 [==============================] - 1s 150us/step - loss: 0.8719 - acc: 0.8162 - val_loss: 1.0812 - val_acc: 0.7590\n",
            "Epoch 5/20\n",
            "7982/7982 [==============================] - 1s 149us/step - loss: 0.7044 - acc: 0.8483 - val_loss: 0.9838 - val_acc: 0.7850\n",
            "Epoch 6/20\n",
            "7982/7982 [==============================] - 1s 152us/step - loss: 0.5670 - acc: 0.8796 - val_loss: 0.9392 - val_acc: 0.8000\n",
            "Epoch 7/20\n",
            "7982/7982 [==============================] - 1s 150us/step - loss: 0.4594 - acc: 0.9038 - val_loss: 0.9069 - val_acc: 0.8040\n",
            "Epoch 8/20\n",
            "7982/7982 [==============================] - 1s 149us/step - loss: 0.3702 - acc: 0.9236 - val_loss: 0.9350 - val_acc: 0.7910\n",
            "Epoch 9/20\n",
            "7982/7982 [==============================] - 1s 149us/step - loss: 0.3030 - acc: 0.9311 - val_loss: 0.8880 - val_acc: 0.8080\n",
            "Epoch 10/20\n",
            "7982/7982 [==============================] - 1s 148us/step - loss: 0.2535 - acc: 0.9419 - val_loss: 0.9050 - val_acc: 0.8150\n",
            "Epoch 11/20\n",
            "7982/7982 [==============================] - 1s 149us/step - loss: 0.2179 - acc: 0.9474 - val_loss: 0.9140 - val_acc: 0.8100\n",
            "Epoch 12/20\n",
            "7982/7982 [==============================] - 1s 150us/step - loss: 0.1873 - acc: 0.9511 - val_loss: 0.9065 - val_acc: 0.8130\n",
            "Epoch 13/20\n",
            "7982/7982 [==============================] - 1s 150us/step - loss: 0.1696 - acc: 0.9524 - val_loss: 0.9325 - val_acc: 0.8080\n",
            "Epoch 14/20\n",
            "7982/7982 [==============================] - 1s 150us/step - loss: 0.1532 - acc: 0.9558 - val_loss: 0.9623 - val_acc: 0.8080\n",
            "Epoch 15/20\n",
            "7982/7982 [==============================] - 1s 149us/step - loss: 0.1390 - acc: 0.9560 - val_loss: 0.9673 - val_acc: 0.8140\n",
            "Epoch 16/20\n",
            "7982/7982 [==============================] - 1s 148us/step - loss: 0.1313 - acc: 0.9567 - val_loss: 1.0203 - val_acc: 0.8060\n",
            "Epoch 17/20\n",
            "7982/7982 [==============================] - 1s 150us/step - loss: 0.1217 - acc: 0.9578 - val_loss: 1.0201 - val_acc: 0.8000\n",
            "Epoch 18/20\n",
            "7982/7982 [==============================] - 1s 148us/step - loss: 0.1195 - acc: 0.9579 - val_loss: 1.0409 - val_acc: 0.8060\n",
            "Epoch 19/20\n",
            "7982/7982 [==============================] - 1s 151us/step - loss: 0.1142 - acc: 0.9593 - val_loss: 1.0937 - val_acc: 0.7950\n",
            "Epoch 20/20\n",
            "7982/7982 [==============================] - 1s 149us/step - loss: 0.1114 - acc: 0.9599 - val_loss: 1.0668 - val_acc: 0.8020\n"
          ],
          "name": "stdout"
        }
      ]
    },
    {
      "metadata": {
        "id": "ht5okazZ6aCK",
        "colab_type": "code",
        "colab": {
          "base_uri": "https://localhost:8080/",
          "height": 376
        },
        "outputId": "7446f749-0553-46fd-c1fa-756ddbc6c03c"
      },
      "cell_type": "code",
      "source": [
        "import matplotlib.pyplot as plt\n",
        "\n",
        "loss = history.history['loss']\n",
        "val_loss = history.history['val_loss']\n",
        "\n",
        "epochs = range(1, len(loss) + 1)\n",
        "\n",
        "plt.plot(epochs, loss, 'bo', label='Training loss')\n",
        "plt.plot(epochs, val_loss, 'b', label='Validation loss')\n",
        "plt.title('Training and validation loss')\n",
        "plt.xlabel('Epochs')\n",
        "plt.ylabel('Loss')\n",
        "plt.legend()\n",
        "\n",
        "plt.show()\n"
      ],
      "execution_count": 12,
      "outputs": [
        {
          "output_type": "display_data",
          "data": {
            "image/png": "[encoded data removed]",
            "text/plain": [
              "<matplotlib.figure.Figure at 0x7f197ff586d0>"
            ]
          },
          "metadata": {
            "tags": []
          }
        }
      ]
    },
    {
      "metadata": {
        "id": "7jTvloep6clH",
        "colab_type": "code",
        "colab": {
          "base_uri": "https://localhost:8080/",
          "height": 376
        },
        "outputId": "5cb2f0ed-ff9a-40dd-d66d-54f2f81bc455"
      },
      "cell_type": "code",
      "source": [
        "plt.clf()   # clear figure\n",
        "\n",
        "acc = history.history['acc']\n",
        "val_acc = history.history['val_acc']\n",
        "\n",
        "plt.plot(epochs, acc, 'bo', label='Training acc')\n",
        "plt.plot(epochs, val_acc, 'b', label='Validation acc')\n",
        "plt.title('Training and validation accuracy')\n",
        "plt.xlabel('Epochs')\n",
        "plt.ylabel('Loss')\n",
        "plt.legend()\n",
        "\n",
        "plt.show()"
      ],
      "execution_count": 13,
      "outputs": [
        {
          "output_type": "display_data",
          "data": {
            "image/png": "[encoded data removed]",
            "text/plain": [
              "<matplotlib.figure.Figure at 0x7f197fef4d10>"
            ]
          },
          "metadata": {
            "tags": []
          }
        }
      ]
    },
    {
      "metadata": {
        "id": "QQUzBgz56hwG",
        "colab_type": "code",
        "colab": {
          "base_uri": "https://localhost:8080/",
          "height": 323
        },
        "outputId": "9d3ab1b1-ecc0-4677-e8ee-550810162aa7"
      },
      "cell_type": "code",
      "source": [
        "model = models.Sequential()\n",
        "model.add(layers.Dense(64, activation='relu', input_shape=(10000,)))\n",
        "model.add(layers.Dense(64, activation='relu'))\n",
        "model.add(layers.Dense(46, activation='softmax'))\n",
        "\n",
        "model.compile(optimizer='rmsprop',\n",
        "              loss='categorical_crossentropy',\n",
        "              metrics=['accuracy'])\n",
        "model.fit(partial_x_train,\n",
        "          partial_y_train,\n",
        "          epochs=8,\n",
        "          batch_size=512,\n",
        "          validation_data=(x_val, y_val))\n",
        "results = model.evaluate(x_test, one_hot_test_labels)"
      ],
      "execution_count": 14,
      "outputs": [
        {
          "output_type": "stream",
          "text": [
            "Train on 7982 samples, validate on 1000 samples\n",
            "Epoch 1/8\n",
            "7982/7982 [==============================] - 1s 177us/step - loss: 2.5412 - acc: 0.5222 - val_loss: 1.6796 - val_acc: 0.6540\n",
            "Epoch 2/8\n",
            "7982/7982 [==============================] - 1s 150us/step - loss: 1.3778 - acc: 0.7101 - val_loss: 1.2809 - val_acc: 0.7200\n",
            "Epoch 3/8\n",
            "7982/7982 [==============================] - 1s 149us/step - loss: 1.0211 - acc: 0.7779 - val_loss: 1.1313 - val_acc: 0.7480\n",
            "Epoch 4/8\n",
            "7982/7982 [==============================] - 1s 150us/step - loss: 0.8032 - acc: 0.8249 - val_loss: 1.0544 - val_acc: 0.7560\n",
            "Epoch 5/8\n",
            "7982/7982 [==============================] - 1s 151us/step - loss: 0.6434 - acc: 0.8621 - val_loss: 0.9744 - val_acc: 0.7990\n",
            "Epoch 6/8\n",
            "7982/7982 [==============================] - 1s 151us/step - loss: 0.5152 - acc: 0.8931 - val_loss: 0.9108 - val_acc: 0.8120\n",
            "Epoch 7/8\n",
            "7982/7982 [==============================] - 1s 152us/step - loss: 0.4145 - acc: 0.9142 - val_loss: 0.8956 - val_acc: 0.8260\n",
            "Epoch 8/8\n",
            "7982/7982 [==============================] - 1s 150us/step - loss: 0.3373 - acc: 0.9277 - val_loss: 0.8748 - val_acc: 0.8270\n",
            "2246/2246 [==============================] - 0s 117us/step\n"
          ],
          "name": "stdout"
        }
      ]
    },
    {
      "metadata": {
        "id": "qwC5JyeX6sP1",
        "colab_type": "code",
        "colab": {
          "base_uri": "https://localhost:8080/",
          "height": 34
        },
        "outputId": "29c40b15-399c-492e-b981-557293e6ce8b"
      },
      "cell_type": "code",
      "source": [
        "results"
      ],
      "execution_count": 15,
      "outputs": [
        {
          "output_type": "execute_result",
          "data": {
            "text/plain": [
              "[0.98520968646103, 0.7853962600178095]"
            ]
          },
          "metadata": {
            "tags": []
          },
          "execution_count": 15
        }
      ]
    }
  ]
}