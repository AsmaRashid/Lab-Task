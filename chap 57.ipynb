{
 "cells": [
  {
   "cell_type": "code",
   "execution_count": 1,
   "metadata": {},
   "outputs": [
    {
     "name": "stdout",
     "output_type": "stream",
     "text": [
      "My new Bike is a Honda\n",
      "My bike, like all Bikes, has 2 wheels\n"
     ]
    }
   ],
   "source": [
    "class Bike:\n",
    "    wheels = 2\n",
    "\n",
    "    def __init__(self, make):\n",
    "        self.make = make\n",
    "\n",
    "newBike = Bike(\"Honda\")\n",
    "print (\"My new Bike is a {}\".format(newBike.make))\n",
    "print (\"My bike, like all Bikes, has {} wheels\".format(Bike.wheels))"
   ]
  }
 ],
 "metadata": {
  "kernelspec": {
   "display_name": "Python 3",
   "language": "python",
   "name": "python3"
  },
  "language_info": {
   "codemirror_mode": {
    "name": "ipython",
    "version": 3
   },
   "file_extension": ".py",
   "mimetype": "text/x-python",
   "name": "python",
   "nbconvert_exporter": "python",
   "pygments_lexer": "ipython3",
   "version": "3.6.5"
  }
 },
 "nbformat": 4,
 "nbformat_minor": 2
}
