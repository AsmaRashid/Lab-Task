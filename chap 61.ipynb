{
 "cells": [
  {
   "cell_type": "code",
   "execution_count": 1,
   "metadata": {},
   "outputs": [
    {
     "name": "stdout",
     "output_type": "stream",
     "text": [
      "Dictionary form : {'name': 'Asma Rashid', 'salary': 30000}\n"
     ]
    }
   ],
   "source": [
    "class emp: \n",
    "    def __init__(self): \n",
    "        self.name = 'Asma Rashid'\n",
    "        self.salary = 30000\n",
    "\n",
    "    def show(self): \n",
    "        print (self.name)\n",
    "        print (self.salary)\n",
    "\n",
    "e1 = emp() \n",
    "print (\"Dictionary form :\", vars(e1))"
   ]
  }
 ],
 "metadata": {
  "kernelspec": {
   "display_name": "Python 3",
   "language": "python",
   "name": "python3"
  },
  "language_info": {
   "codemirror_mode": {
    "name": "ipython",
    "version": 3
   },
   "file_extension": ".py",
   "mimetype": "text/x-python",
   "name": "python",
   "nbconvert_exporter": "python",
   "pygments_lexer": "ipython3",
   "version": "3.6.5"
  }
 },
 "nbformat": 4,
 "nbformat_minor": 2
}
