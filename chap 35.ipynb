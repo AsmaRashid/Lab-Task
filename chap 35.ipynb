{
 "cells": [
  {
   "cell_type": "code",
   "execution_count": 1,
   "metadata": {},
   "outputs": [
    {
     "data": {
      "text/plain": [
       "'1689'"
      ]
     },
     "execution_count": 1,
     "metadata": {},
     "output_type": "execute_result"
    }
   ],
   "source": [
    "Students = [ \n",
    "    {\n",
    "        'FirstName': 'asma',\n",
    "        'LastName': 'rashid',\n",
    "        'ID': '1689'\n",
    "    },\n",
    "    \n",
    "{\n",
    "    'FirstName': 'Ayesha',\n",
    "    'LastName': 'noor',\n",
    "    'ID': '1425'\n",
    "},\n",
    "]\n",
    "Students\n",
    "a = Students[0]\n",
    "Students_ID = a['ID']\n",
    "\n",
    "Students_ID"
   ]
  }
 ],
 "metadata": {
  "kernelspec": {
   "display_name": "Python 3",
   "language": "python",
   "name": "python3"
  },
  "language_info": {
   "codemirror_mode": {
    "name": "ipython",
    "version": 3
   },
   "file_extension": ".py",
   "mimetype": "text/x-python",
   "name": "python",
   "nbconvert_exporter": "python",
   "pygments_lexer": "ipython3",
   "version": "3.6.5"
  }
 },
 "nbformat": 4,
 "nbformat_minor": 2
}
