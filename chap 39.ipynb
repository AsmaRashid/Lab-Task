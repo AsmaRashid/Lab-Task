{
 "cells": [
  {
   "cell_type": "code",
   "execution_count": 2,
   "metadata": {},
   "outputs": [
    {
     "name": "stdout",
     "output_type": "stream",
     "text": [
      "{'First Name': 'Asma', 'Last Name': 'Rashid', 'Address': 'PAF Base'}\n"
     ]
    }
   ],
   "source": [
    "customers = {\n",
    "  0:  {\n",
    "         \"First name\":\"Sana\",\n",
    "         \"Last name\": \"Shahid\",\n",
    "         \"Address\": \"Malir.\", \n",
    "    },\n",
    " 1:  {\n",
    "        \"First Name\":\"Ammara\",\n",
    "        \"Last Name\": \"Karim\",\n",
    "        \"Address\": \"Garden\", \n",
    "    },\n",
    " 2:   { \n",
    "        \"First Name\":\"Asma\",\n",
    "        \"Last Name\": \"Rashid\",\n",
    "        \"Address\": \"PAF Base\", \n",
    "    },\n",
    "}\n",
    "print(customers[2])"
   ]
  }
 ],
 "metadata": {
  "kernelspec": {
   "display_name": "Python 3",
   "language": "python",
   "name": "python3"
  },
  "language_info": {
   "codemirror_mode": {
    "name": "ipython",
    "version": 3
   },
   "file_extension": ".py",
   "mimetype": "text/x-python",
   "name": "python",
   "nbconvert_exporter": "python",
   "pygments_lexer": "ipython3",
   "version": "3.6.5"
  }
 },
 "nbformat": 4,
 "nbformat_minor": 2
}
