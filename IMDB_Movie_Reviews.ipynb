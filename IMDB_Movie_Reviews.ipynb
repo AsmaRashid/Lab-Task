{
  "nbformat": 4,
  "nbformat_minor": 0,
  "metadata": {
    "colab": {
      "name": "IMDB_Movie_Reviews.ipynb",
      "version": "0.3.2",
      "provenance": [],
      "collapsed_sections": [],
      "include_colab_link": true
    },
    "kernelspec": {
      "name": "python3",
      "display_name": "Python 3"
    }
  },
  "cells": [
    {
      "cell_type": "markdown",
      "metadata": {
        "id": "view-in-github",
        "colab_type": "text"
      },
      "source": [
        "<a href=\"https://colab.research.google.com/github/AsmaRashid/Lab-Task/blob/master/IMDB_Movie_Reviews.ipynb\" target=\"_parent\"><img src=\"https://colab.research.google.com/assets/colab-badge.svg\" alt=\"Open In Colab\"/></a>"
      ]
    },
    {
      "metadata": {
        "id": "T2zVBmrT7RAH",
        "colab_type": "code",
        "outputId": "a5ee778a-0814-4e8a-fa06-9d8b1338bb04",
        "colab": {
          "base_uri": "https://localhost:8080/",
          "height": 68
        }
      },
      "cell_type": "code",
      "source": [
        "from keras.datasets import imdb \n",
        "\n",
        "(train_data, train_labels), (test_data, test_labels) = imdb.load_data(num_words = 10000)"
      ],
      "execution_count": 0,
      "outputs": [
        {
          "output_type": "stream",
          "text": [
            "Using TensorFlow backend.\n"
          ],
          "name": "stderr"
        },
        {
          "output_type": "stream",
          "text": [
            "Downloading data from https://s3.amazonaws.com/text-datasets/imdb.npz\n",
            "17465344/17464789 [==============================] - 0s 0us/step\n"
          ],
          "name": "stdout"
        }
      ]
    },
    {
      "metadata": {
        "id": "q3YdLuUq7mSN",
        "colab_type": "code",
        "outputId": "0d643dd8-81de-4a82-a5f9-908267d168e9",
        "colab": {
          "base_uri": "https://localhost:8080/",
          "height": 34
        }
      },
      "cell_type": "code",
      "source": [
        "max([max(sequence) for sequence in train_data])"
      ],
      "execution_count": 0,
      "outputs": [
        {
          "output_type": "execute_result",
          "data": {
            "text/plain": [
              "9999"
            ]
          },
          "metadata": {
            "tags": []
          },
          "execution_count": 2
        }
      ]
    },
    {
      "metadata": {
        "id": "FK-FEDSZ7oKP",
        "colab_type": "code",
        "outputId": "9b5b4603-1876-460c-f30c-fab1d495aa12",
        "colab": {
          "base_uri": "https://localhost:8080/",
          "height": 51
        }
      },
      "cell_type": "code",
      "source": [
        "import collections\n",
        "\n",
        "word_index = imdb.get_word_index()\n",
        "reverse_word_index = dict(\n",
        "    [(value, key) for (value, key) in word_index.items()])\n",
        "\n",
        "decoded_review = ' '.join(\n",
        "    [reverse_word_index.get(i - 3, '?') for i in train_data[0]])"
      ],
      "execution_count": 0,
      "outputs": [
        {
          "output_type": "stream",
          "text": [
            "Downloading data from https://s3.amazonaws.com/text-datasets/imdb_word_index.json\n",
            "1646592/1641221 [==============================] - 0s 0us/step\n"
          ],
          "name": "stdout"
        }
      ]
    },
    {
      "metadata": {
        "id": "QJWE4ELu7sv2",
        "colab_type": "code",
        "colab": {}
      },
      "cell_type": "code",
      "source": [
        "import numpy as np\n",
        "def vectorize_sequences(sequences, dimension=10000):\n",
        "    results = np.zeros((len(sequences), dimension))\n",
        "    for i, sequence in enumerate(sequences):\n",
        "        results[i, sequence] = 1.\n",
        "    return results\n",
        "\n",
        "x_train = vectorize_sequences(train_data)\n",
        "x_test = vectorize_sequences(test_data)"
      ],
      "execution_count": 0,
      "outputs": []
    },
    {
      "metadata": {
        "id": "uSMd_sQ571ua",
        "colab_type": "code",
        "colab": {}
      },
      "cell_type": "code",
      "source": [
        "y_train = np.asarray(train_labels).astype('float32')\n",
        "y_test = np.asarray(test_labels).astype('float32')"
      ],
      "execution_count": 0,
      "outputs": []
    },
    {
      "metadata": {
        "id": "qy0kjLx-73K7",
        "colab_type": "code",
        "colab": {}
      },
      "cell_type": "code",
      "source": [
        "from keras import models\n",
        "from keras import layers\n",
        "model = models.Sequential()\n",
        "model.add(layers.Dense(16, activation='relu', input_shape=(10000,)))\n",
        "model.add(layers.Dense(16, activation='relu'))\n",
        "model.add(layers.Dense(1, activation='sigmoid'))"
      ],
      "execution_count": 0,
      "outputs": []
    },
    {
      "metadata": {
        "id": "pSshiQIK78SG",
        "colab_type": "code",
        "colab": {}
      },
      "cell_type": "code",
      "source": [
        "model.compile(optimizer='rmsprop',\n",
        "              loss='binary_crossentropy',\n",
        "              metrics=['accuracy'])"
      ],
      "execution_count": 0,
      "outputs": []
    },
    {
      "metadata": {
        "id": "XcAnhsje7_pA",
        "colab_type": "code",
        "colab": {}
      },
      "cell_type": "code",
      "source": [
        "from keras import optimizers\n",
        "\n",
        "model.compile(optimizer=optimizers.RMSprop(lr=0.001),\n",
        "              loss='binary_crossentropy',\n",
        "              metrics=['accuracy'])"
      ],
      "execution_count": 0,
      "outputs": []
    },
    {
      "metadata": {
        "id": "YPeyzLTE8EvZ",
        "colab_type": "code",
        "colab": {}
      },
      "cell_type": "code",
      "source": [
        "from keras import losses\n",
        "from keras import metrics\n",
        "\n",
        "model.compile(optimizer=optimizers.RMSprop(lr=0.001),\n",
        "              loss=losses.binary_crossentropy,\n",
        "              metrics=[metrics.binary_accuracy])"
      ],
      "execution_count": 0,
      "outputs": []
    },
    {
      "metadata": {
        "id": "Gw-kkAqi8IN5",
        "colab_type": "code",
        "colab": {}
      },
      "cell_type": "code",
      "source": [
        "x_val = x_train[:10000]\n",
        "partial_x_train = x_train[10000:]\n",
        "y_val = y_train[:10000]\n",
        "partial_y_train = y_train[10000:]"
      ],
      "execution_count": 0,
      "outputs": []
    },
    {
      "metadata": {
        "id": "sDoyiJbR8L3K",
        "colab_type": "code",
        "outputId": "07f67900-edfb-4fdc-85eb-fe99513de8cb",
        "colab": {
          "base_uri": "https://localhost:8080/",
          "height": 714
        }
      },
      "cell_type": "code",
      "source": [
        "model.compile(optimizer='rmsprop',\n",
        "loss='binary_crossentropy',\n",
        "              metrics=['acc'])\n",
        "history = model.fit(partial_x_train,\n",
        "                    partial_y_train,\n",
        "                    epochs=20,\n",
        "                    batch_size=512,\n",
        "                    validation_data=(x_val, y_val))"
      ],
      "execution_count": 0,
      "outputs": [
        {
          "output_type": "stream",
          "text": [
            "Train on 15000 samples, validate on 10000 samples\n",
            "Epoch 1/20\n",
            "15000/15000 [==============================] - 3s 168us/step - loss: 0.5097 - acc: 0.7805 - val_loss: 0.3832 - val_acc: 0.8674\n",
            "Epoch 2/20\n",
            "15000/15000 [==============================] - 2s 144us/step - loss: 0.3013 - acc: 0.9043 - val_loss: 0.2995 - val_acc: 0.8906\n",
            "Epoch 3/20\n",
            "15000/15000 [==============================] - 2s 144us/step - loss: 0.2162 - acc: 0.9287 - val_loss: 0.3088 - val_acc: 0.8716\n",
            "Epoch 4/20\n",
            "15000/15000 [==============================] - 2s 144us/step - loss: 0.1724 - acc: 0.9437 - val_loss: 0.2825 - val_acc: 0.8851\n",
            "Epoch 5/20\n",
            "15000/15000 [==============================] - 2s 142us/step - loss: 0.1389 - acc: 0.9554 - val_loss: 0.2855 - val_acc: 0.8870\n",
            "Epoch 6/20\n",
            "15000/15000 [==============================] - 2s 144us/step - loss: 0.1110 - acc: 0.9666 - val_loss: 0.3101 - val_acc: 0.8797\n",
            "Epoch 7/20\n",
            "15000/15000 [==============================] - 2s 143us/step - loss: 0.0931 - acc: 0.9725 - val_loss: 0.3167 - val_acc: 0.8849\n",
            "Epoch 8/20\n",
            "15000/15000 [==============================] - 2s 143us/step - loss: 0.0760 - acc: 0.9780 - val_loss: 0.3884 - val_acc: 0.8658\n",
            "Epoch 9/20\n",
            "15000/15000 [==============================] - 2s 142us/step - loss: 0.0615 - acc: 0.9833 - val_loss: 0.3720 - val_acc: 0.8752\n",
            "Epoch 10/20\n",
            "15000/15000 [==============================] - 2s 146us/step - loss: 0.0514 - acc: 0.9865 - val_loss: 0.3908 - val_acc: 0.8783\n",
            "Epoch 11/20\n",
            "15000/15000 [==============================] - 2s 146us/step - loss: 0.0397 - acc: 0.9913 - val_loss: 0.4275 - val_acc: 0.8767\n",
            "Epoch 12/20\n",
            "15000/15000 [==============================] - 2s 146us/step - loss: 0.0344 - acc: 0.9925 - val_loss: 0.4580 - val_acc: 0.8699\n",
            "Epoch 13/20\n",
            "15000/15000 [==============================] - 2s 147us/step - loss: 0.0260 - acc: 0.9947 - val_loss: 0.4788 - val_acc: 0.8749\n",
            "Epoch 14/20\n",
            "15000/15000 [==============================] - 2s 144us/step - loss: 0.0199 - acc: 0.9967 - val_loss: 0.5118 - val_acc: 0.8726\n",
            "Epoch 15/20\n",
            "15000/15000 [==============================] - 2s 144us/step - loss: 0.0153 - acc: 0.9983 - val_loss: 0.5412 - val_acc: 0.8695\n",
            "Epoch 16/20\n",
            "15000/15000 [==============================] - 2s 143us/step - loss: 0.0150 - acc: 0.9975 - val_loss: 0.5752 - val_acc: 0.8684\n",
            "Epoch 17/20\n",
            "15000/15000 [==============================] - 2s 144us/step - loss: 0.0074 - acc: 0.9997 - val_loss: 0.6848 - val_acc: 0.8554\n",
            "Epoch 18/20\n",
            "15000/15000 [==============================] - 2s 144us/step - loss: 0.0105 - acc: 0.9981 - val_loss: 0.6437 - val_acc: 0.8663\n",
            "Epoch 19/20\n",
            "15000/15000 [==============================] - 2s 144us/step - loss: 0.0042 - acc: 0.9999 - val_loss: 0.7160 - val_acc: 0.8571\n",
            "Epoch 20/20\n",
            "15000/15000 [==============================] - 2s 143us/step - loss: 0.0081 - acc: 0.9983 - val_loss: 0.7024 - val_acc: 0.8669\n"
          ],
          "name": "stdout"
        }
      ]
    },
    {
      "metadata": {
        "id": "ybFAEXOE8awZ",
        "colab_type": "code",
        "outputId": "8f2daa28-3ce9-4368-9356-0826cd4f38dc",
        "colab": {
          "base_uri": "https://localhost:8080/",
          "height": 393
        }
      },
      "cell_type": "code",
      "source": [
        "import matplotlib.pyplot as plt\n",
        "history_dict = history.history\n",
        "loss_values = history_dict['loss']\n",
        "val_loss_values = history_dict['val_loss']\n",
        "acc = history_dict['acc']\n",
        "epochs = list(range(1, len(acc) + 1))\n",
        "plt.plot(epochs, loss_values, 'bo', label='Training loss')\n",
        "plt.plot(epochs, val_loss_values, 'b', label='Validation loss')\n",
        "plt.title('Training and validation loss')\n",
        "plt.xlabel('Epochs')\n",
        "plt.ylabel('Loss')\n",
        "plt.legend()\n",
        "plt.show()\n",
        "print(\"Figure 3.7 Training and validation loss\")"
      ],
      "execution_count": 0,
      "outputs": [
        {
          "output_type": "display_data",
          "data": {
            "image/png": "[encoded data removed]",
            "text/plain": [
              "<matplotlib.figure.Figure at 0x7f6077a880b8>"
            ]
          },
          "metadata": {
            "tags": []
          }
        },
        {
          "output_type": "stream",
          "text": [
            "Figure 3.7 Training and validation loss\n"
          ],
          "name": "stdout"
        }
      ]
    },
    {
      "metadata": {
        "id": "4ki7V67K8csg",
        "colab_type": "code",
        "outputId": "a4a7b25f-0c50-419f-a137-b9534197be29",
        "colab": {
          "base_uri": "https://localhost:8080/",
          "height": 393
        }
      },
      "cell_type": "code",
      "source": [
        "plt.clf()\n",
        "acc_values = history_dict['acc']\n",
        "val_acc_values = history_dict['val_acc']\n",
        "plt.plot(epochs, acc, 'bo', label='Training acc')\n",
        "plt.plot(epochs, val_acc_values, 'b', label='Validation acc')\n",
        "plt.title('Training and validation accuracy')\n",
        "plt.xlabel('Epochs')\n",
        "plt.ylabel('Loss')\n",
        "plt.legend()\n",
        "plt.show()\n",
        "print(\"Figure 3.8 Training and validation accuracy\")"
      ],
      "execution_count": 0,
      "outputs": [
        {
          "output_type": "display_data",
          "data": {
            "image/png": "[encoded data removed]",
            "text/plain": [
              "<matplotlib.figure.Figure at 0x7f6077a83d68>"
            ]
          },
          "metadata": {
            "tags": []
          }
        },
        {
          "output_type": "stream",
          "text": [
            "Figure 3.8 Training and validation accuracy\n"
          ],
          "name": "stdout"
        }
      ]
    },
    {
      "metadata": {
        "id": "GQNQHsf98iQ5",
        "colab_type": "code",
        "outputId": "93d0c4e9-6a3a-4e25-fc97-54c1ede22a5c",
        "colab": {
          "base_uri": "https://localhost:8080/",
          "height": 170
        }
      },
      "cell_type": "code",
      "source": [
        "model = models.Sequential()\n",
        "model.add(layers.Dense(16, activation='relu', input_shape=(10000,)))\n",
        "model.add(layers.Dense(16, activation='relu'))\n",
        "model.add(layers.Dense(1, activation='sigmoid'))\n",
        "model.compile(optimizer='rmsprop',\n",
        "              loss='binary_crossentropy',\n",
        "              metrics=['accuracy'])\n",
        "model.fit(x_train, y_train, epochs=4, batch_size=512)\n",
        "results = model.evaluate(x_test, y_test)"
      ],
      "execution_count": 0,
      "outputs": [
        {
          "output_type": "stream",
          "text": [
            "Epoch 1/4\n",
            "25000/25000 [==============================] - 3s 114us/step - loss: 0.4738 - acc: 0.8222\n",
            "Epoch 2/4\n",
            "25000/25000 [==============================] - 3s 103us/step - loss: 0.2674 - acc: 0.9096\n",
            "Epoch 3/4\n",
            "25000/25000 [==============================] - 3s 102us/step - loss: 0.2032 - acc: 0.9282\n",
            "Epoch 4/4\n",
            "25000/25000 [==============================] - 3s 102us/step - loss: 0.1713 - acc: 0.9386\n",
            "25000/25000 [==============================] - 2s 75us/step\n"
          ],
          "name": "stdout"
        }
      ]
    }
  ]
}