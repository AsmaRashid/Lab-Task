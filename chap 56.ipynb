{
 "cells": [
  {
   "cell_type": "code",
   "execution_count": 1,
   "metadata": {},
   "outputs": [],
   "source": [
    "class Patient():\n",
    "    def __init__(self, last_name):\n",
    "        self.last_name = last_name\n",
    "        pid4343 = Patient(\"asma\") \n",
    "        pid4344 = Patient(\"Ayesha\") \n",
    "        pid4345 = Patient(\"emaan\") \n",
    "        pid4346 = Patient(\"noor\") \n",
    "        pid12902 = Patient(\"Zoya\")\n",
    "        \n",
    "        pid4343 = {\"last name\": \"asma\"} \n",
    "        pid4344 = {\"last name\": \"Ayesha\"} \n",
    "        pid4345 = {\"last name\": \"emaan\"} \n",
    "        pid4346 = {\"last name\": \"noor\"} \n",
    "        pid12902 = {\"last name\": \"zoya\"}"
   ]
  }
 ],
 "metadata": {
  "kernelspec": {
   "display_name": "Python 3",
   "language": "python",
   "name": "python3"
  },
  "language_info": {
   "codemirror_mode": {
    "name": "ipython",
    "version": 3
   },
   "file_extension": ".py",
   "mimetype": "text/x-python",
   "name": "python",
   "nbconvert_exporter": "python",
   "pygments_lexer": "ipython3",
   "version": "3.6.5"
  }
 },
 "nbformat": 4,
 "nbformat_minor": 2
}
