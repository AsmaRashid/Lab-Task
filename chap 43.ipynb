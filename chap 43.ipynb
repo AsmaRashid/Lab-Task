{
 "cells": [
  {
   "cell_type": "code",
   "execution_count": 1,
   "metadata": {},
   "outputs": [
    {
     "name": "stdout",
     "output_type": "stream",
     "text": [
      "Asma is from Pakistan\n",
      "Asma is from Turkey\n"
     ]
    }
   ],
   "source": [
    "def my_function(Name,country):\n",
    "  print(Name + \" is from \" + country)\n",
    "\n",
    "my_function(\"Asma\",\"Pakistan\")\n",
    "\n",
    "\n",
    "my_function (\"Asma\", country = \"Turkey\")"
   ]
  }
 ],
 "metadata": {
  "kernelspec": {
   "display_name": "Python 3",
   "language": "python",
   "name": "python3"
  },
  "language_info": {
   "codemirror_mode": {
    "name": "ipython",
    "version": 3
   },
   "file_extension": ".py",
   "mimetype": "text/x-python",
   "name": "python",
   "nbconvert_exporter": "python",
   "pygments_lexer": "ipython3",
   "version": "3.6.5"
  }
 },
 "nbformat": 4,
 "nbformat_minor": 2
}
