{
 "cells": [
  {
   "cell_type": "code",
   "execution_count": 1,
   "metadata": {},
   "outputs": [
    {
     "data": {
      "text/plain": [
       "[{'FirstName': 'emaan', 'LastName': 'fatima', 'ID': '1039'},\n",
       " {'FirstName': 'ayesha', 'LastName': 'noor', 'ID': '1824'}]"
      ]
     },
     "execution_count": 1,
     "metadata": {},
     "output_type": "execute_result"
    }
   ],
   "source": [
    "Students = [ \n",
    "    {\n",
    "        'FirstName': 'emaan',\n",
    "        'LastName': 'fatima',\n",
    "        'ID': '1039'\n",
    "    },\n",
    "    \n",
    "{\n",
    "    'FirstName': 'ayesha',\n",
    "    'LastName': 'noor',\n",
    "    'ID': '1824'\n",
    "},\n",
    "]\n",
    "Students"
   ]
  }
 ],
 "metadata": {
  "kernelspec": {
   "display_name": "Python 3",
   "language": "python",
   "name": "python3"
  },
  "language_info": {
   "codemirror_mode": {
    "name": "ipython",
    "version": 3
   },
   "file_extension": ".py",
   "mimetype": "text/x-python",
   "name": "python",
   "nbconvert_exporter": "python",
   "pygments_lexer": "ipython3",
   "version": "3.6.5"
  }
 },
 "nbformat": 4,
 "nbformat_minor": 2
}
